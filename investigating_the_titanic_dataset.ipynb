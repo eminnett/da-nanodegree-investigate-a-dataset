{
 "cells": [
  {
   "cell_type": "markdown",
   "metadata": {},
   "source": [
    "# Investigating the Titanic Dataset"
   ]
  },
  {
   "cell_type": "markdown",
   "metadata": {},
   "source": [
    "### Load the Data and Perform an Initial Investigation"
   ]
  },
  {
   "cell_type": "code",
   "execution_count": 207,
   "metadata": {
    "collapsed": false
   },
   "outputs": [
    {
     "data": {
      "text/html": [
       "<div>\n",
       "<table border=\"1\" class=\"dataframe\">\n",
       "  <thead>\n",
       "    <tr style=\"text-align: right;\">\n",
       "      <th></th>\n",
       "      <th>PassengerId</th>\n",
       "      <th>Survived</th>\n",
       "      <th>Pclass</th>\n",
       "      <th>Name</th>\n",
       "      <th>Sex</th>\n",
       "      <th>Age</th>\n",
       "      <th>SibSp</th>\n",
       "      <th>Parch</th>\n",
       "      <th>Ticket</th>\n",
       "      <th>Fare</th>\n",
       "      <th>Cabin</th>\n",
       "      <th>Embarked</th>\n",
       "    </tr>\n",
       "  </thead>\n",
       "  <tbody>\n",
       "    <tr>\n",
       "      <th>0</th>\n",
       "      <td>1</td>\n",
       "      <td>0</td>\n",
       "      <td>3</td>\n",
       "      <td>Braund, Mr. Owen Harris</td>\n",
       "      <td>male</td>\n",
       "      <td>22</td>\n",
       "      <td>1</td>\n",
       "      <td>0</td>\n",
       "      <td>A/5 21171</td>\n",
       "      <td>7.2500</td>\n",
       "      <td>NaN</td>\n",
       "      <td>S</td>\n",
       "    </tr>\n",
       "    <tr>\n",
       "      <th>1</th>\n",
       "      <td>2</td>\n",
       "      <td>1</td>\n",
       "      <td>1</td>\n",
       "      <td>Cumings, Mrs. John Bradley (Florence Briggs Th...</td>\n",
       "      <td>female</td>\n",
       "      <td>38</td>\n",
       "      <td>1</td>\n",
       "      <td>0</td>\n",
       "      <td>PC 17599</td>\n",
       "      <td>71.2833</td>\n",
       "      <td>C85</td>\n",
       "      <td>C</td>\n",
       "    </tr>\n",
       "    <tr>\n",
       "      <th>2</th>\n",
       "      <td>3</td>\n",
       "      <td>1</td>\n",
       "      <td>3</td>\n",
       "      <td>Heikkinen, Miss. Laina</td>\n",
       "      <td>female</td>\n",
       "      <td>26</td>\n",
       "      <td>0</td>\n",
       "      <td>0</td>\n",
       "      <td>STON/O2. 3101282</td>\n",
       "      <td>7.9250</td>\n",
       "      <td>NaN</td>\n",
       "      <td>S</td>\n",
       "    </tr>\n",
       "    <tr>\n",
       "      <th>3</th>\n",
       "      <td>4</td>\n",
       "      <td>1</td>\n",
       "      <td>1</td>\n",
       "      <td>Futrelle, Mrs. Jacques Heath (Lily May Peel)</td>\n",
       "      <td>female</td>\n",
       "      <td>35</td>\n",
       "      <td>1</td>\n",
       "      <td>0</td>\n",
       "      <td>113803</td>\n",
       "      <td>53.1000</td>\n",
       "      <td>C123</td>\n",
       "      <td>S</td>\n",
       "    </tr>\n",
       "    <tr>\n",
       "      <th>4</th>\n",
       "      <td>5</td>\n",
       "      <td>0</td>\n",
       "      <td>3</td>\n",
       "      <td>Allen, Mr. William Henry</td>\n",
       "      <td>male</td>\n",
       "      <td>35</td>\n",
       "      <td>0</td>\n",
       "      <td>0</td>\n",
       "      <td>373450</td>\n",
       "      <td>8.0500</td>\n",
       "      <td>NaN</td>\n",
       "      <td>S</td>\n",
       "    </tr>\n",
       "  </tbody>\n",
       "</table>\n",
       "</div>"
      ],
      "text/plain": [
       "   PassengerId  Survived  Pclass  \\\n",
       "0            1         0       3   \n",
       "1            2         1       1   \n",
       "2            3         1       3   \n",
       "3            4         1       1   \n",
       "4            5         0       3   \n",
       "\n",
       "                                                Name     Sex  Age  SibSp  \\\n",
       "0                            Braund, Mr. Owen Harris    male   22      1   \n",
       "1  Cumings, Mrs. John Bradley (Florence Briggs Th...  female   38      1   \n",
       "2                             Heikkinen, Miss. Laina  female   26      0   \n",
       "3       Futrelle, Mrs. Jacques Heath (Lily May Peel)  female   35      1   \n",
       "4                           Allen, Mr. William Henry    male   35      0   \n",
       "\n",
       "   Parch            Ticket     Fare Cabin Embarked  \n",
       "0      0         A/5 21171   7.2500   NaN        S  \n",
       "1      0          PC 17599  71.2833   C85        C  \n",
       "2      0  STON/O2. 3101282   7.9250   NaN        S  \n",
       "3      0            113803  53.1000  C123        S  \n",
       "4      0            373450   8.0500   NaN        S  "
      ]
     },
     "execution_count": 207,
     "metadata": {},
     "output_type": "execute_result"
    }
   ],
   "source": [
    "import pandas as pd\n",
    "import numpy as np\n",
    "\n",
    "titanic_df = pd.read_csv('./titanic_data.csv')\n",
    "titanic_df.head()"
   ]
  },
  {
   "cell_type": "markdown",
   "metadata": {},
   "source": [
    "The following is a description of the variables in this dataset. This description has been copied from the data source found at Kaggle.com (https://www.kaggle.com/c/titanic/data).\n",
    "\n",
    "**VARIABLE DESCRIPTIONS:**\n",
    "- survival       - Survival (0 = No; 1 = Yes)\n",
    "- pclass         - Passenger Class (1 = 1st; 2 = 2nd; 3 = 3rd)\n",
    "- name           - Name\n",
    "- sex            - Sex\n",
    "- age            - Age\n",
    "- sibsp          - Number of Siblings/Spouses Aboard\n",
    "- parch          - Number of Parents/Children Aboard\n",
    "- ticket         - Ticket Number\n",
    "- fare           - Passenger Fare\n",
    "- cabin          - Cabin\n",
    "- embarked       - Port of Embarkation (C = Cherbourg; Q = Queenstown; S = Southampton)\n",
    "\n",
    "**SPECIAL NOTES:**\n",
    "\n",
    "Pclass is a proxy for socio-economic status (SES) - 1st ~ Upper; 2nd ~ Middle; 3rd ~ Lower\n",
    "\n",
    "Age is in Years; Fractional if Age less than One (1) - If the Age is Estimated, it is in the form xx.5\n",
    "\n",
    "With respect to the family relation variables (i.e. sibsp and parch) some relations were ignored.  The following are the definitions used for sibsp and parch.\n",
    "\n",
    "- Sibling:  Brother, Sister, Stepbrother, or Stepsister of Passenger Aboard Titanic\n",
    "- Spouse:   Husband or Wife of Passenger Aboard Titanic (Mistresses and Fiances Ignored)\n",
    "- Parent:   Mother or Father of Passenger Aboard Titanic\n",
    "- Child:    Son, Daughter, Stepson, or Stepdaughter of Passenger Aboard Titanic\n",
    "\n",
    "Other family relatives excluded from this study include cousins, nephews/nieces, aunts/uncles, and in-laws.  Some children travelled only with a nanny, therefore parch=0 for them.  As well, some travelled with very close friends or neighbors in a village, however, the definitions do not support such relations."
   ]
  },
  {
   "cell_type": "markdown",
   "metadata": {},
   "source": [
    "### Questions to Investigate"
   ]
  },
  {
   "cell_type": "markdown",
   "metadata": {},
   "source": [
    "- What are the extremals in age and fare for passenegers who survived or didn't survive? Who are these passengers?\n",
    "- Is there a relationship between socio-economic status and the size of families aboard the Titanic?\n",
    "- Is there a relationship between socio-economic status and where the passengers embarked?\n",
    "- Were passengers with higher socio-economic status more likely to survive?\n",
    "- Were men or women more likely to survive?\n",
    "- Were passengers of certain ages likely to survive?\n",
    "- Is a passeneger's socio-economic status, gender, or age the better indicator of their survival?"
   ]
  },
  {
   "cell_type": "markdown",
   "metadata": {},
   "source": [
    "### Tidy the data"
   ]
  },
  {
   "cell_type": "code",
   "execution_count": 215,
   "metadata": {
    "collapsed": false
   },
   "outputs": [
    {
     "data": {
      "text/html": [
       "<div>\n",
       "<table border=\"1\" class=\"dataframe\">\n",
       "  <thead>\n",
       "    <tr style=\"text-align: right;\">\n",
       "      <th></th>\n",
       "      <th>PassengerId</th>\n",
       "      <th>Survived</th>\n",
       "      <th>Pclass</th>\n",
       "      <th>Name</th>\n",
       "      <th>Sex</th>\n",
       "      <th>Age</th>\n",
       "      <th>AgeByDecade</th>\n",
       "      <th>SibSp</th>\n",
       "      <th>Parch</th>\n",
       "      <th>FamilySize</th>\n",
       "      <th>Ticket</th>\n",
       "      <th>Fare</th>\n",
       "      <th>Embarked</th>\n",
       "    </tr>\n",
       "  </thead>\n",
       "  <tbody>\n",
       "    <tr>\n",
       "      <th>0</th>\n",
       "      <td>1</td>\n",
       "      <td>0</td>\n",
       "      <td>3</td>\n",
       "      <td>Braund, Mr. Owen Harris</td>\n",
       "      <td>male</td>\n",
       "      <td>22</td>\n",
       "      <td>20s</td>\n",
       "      <td>1</td>\n",
       "      <td>0</td>\n",
       "      <td>1</td>\n",
       "      <td>A/5 21171</td>\n",
       "      <td>7.2500</td>\n",
       "      <td>S</td>\n",
       "    </tr>\n",
       "    <tr>\n",
       "      <th>1</th>\n",
       "      <td>2</td>\n",
       "      <td>1</td>\n",
       "      <td>1</td>\n",
       "      <td>Cumings, Mrs. John Bradley (Florence Briggs Th...</td>\n",
       "      <td>female</td>\n",
       "      <td>38</td>\n",
       "      <td>30s</td>\n",
       "      <td>1</td>\n",
       "      <td>0</td>\n",
       "      <td>1</td>\n",
       "      <td>PC 17599</td>\n",
       "      <td>71.2833</td>\n",
       "      <td>C</td>\n",
       "    </tr>\n",
       "    <tr>\n",
       "      <th>2</th>\n",
       "      <td>3</td>\n",
       "      <td>1</td>\n",
       "      <td>3</td>\n",
       "      <td>Heikkinen, Miss. Laina</td>\n",
       "      <td>female</td>\n",
       "      <td>26</td>\n",
       "      <td>20s</td>\n",
       "      <td>0</td>\n",
       "      <td>0</td>\n",
       "      <td>0</td>\n",
       "      <td>STON/O2. 3101282</td>\n",
       "      <td>7.9250</td>\n",
       "      <td>S</td>\n",
       "    </tr>\n",
       "    <tr>\n",
       "      <th>3</th>\n",
       "      <td>4</td>\n",
       "      <td>1</td>\n",
       "      <td>1</td>\n",
       "      <td>Futrelle, Mrs. Jacques Heath (Lily May Peel)</td>\n",
       "      <td>female</td>\n",
       "      <td>35</td>\n",
       "      <td>30s</td>\n",
       "      <td>1</td>\n",
       "      <td>0</td>\n",
       "      <td>1</td>\n",
       "      <td>113803</td>\n",
       "      <td>53.1000</td>\n",
       "      <td>S</td>\n",
       "    </tr>\n",
       "    <tr>\n",
       "      <th>4</th>\n",
       "      <td>5</td>\n",
       "      <td>0</td>\n",
       "      <td>3</td>\n",
       "      <td>Allen, Mr. William Henry</td>\n",
       "      <td>male</td>\n",
       "      <td>35</td>\n",
       "      <td>30s</td>\n",
       "      <td>0</td>\n",
       "      <td>0</td>\n",
       "      <td>0</td>\n",
       "      <td>373450</td>\n",
       "      <td>8.0500</td>\n",
       "      <td>S</td>\n",
       "    </tr>\n",
       "  </tbody>\n",
       "</table>\n",
       "</div>"
      ],
      "text/plain": [
       "   PassengerId  Survived  Pclass  \\\n",
       "0            1         0       3   \n",
       "1            2         1       1   \n",
       "2            3         1       3   \n",
       "3            4         1       1   \n",
       "4            5         0       3   \n",
       "\n",
       "                                                Name     Sex  Age AgeByDecade  \\\n",
       "0                            Braund, Mr. Owen Harris    male   22         20s   \n",
       "1  Cumings, Mrs. John Bradley (Florence Briggs Th...  female   38         30s   \n",
       "2                             Heikkinen, Miss. Laina  female   26         20s   \n",
       "3       Futrelle, Mrs. Jacques Heath (Lily May Peel)  female   35         30s   \n",
       "4                           Allen, Mr. William Henry    male   35         30s   \n",
       "\n",
       "   SibSp  Parch  FamilySize            Ticket     Fare Embarked  \n",
       "0      1      0           1         A/5 21171   7.2500        S  \n",
       "1      1      0           1          PC 17599  71.2833        C  \n",
       "2      0      0           0  STON/O2. 3101282   7.9250        S  \n",
       "3      1      0           1            113803  53.1000        S  \n",
       "4      0      0           0            373450   8.0500        S  "
      ]
     },
     "execution_count": 215,
     "metadata": {},
     "output_type": "execute_result"
    }
   ],
   "source": [
    "def age_to_decade_category(age):\n",
    "    if str(age) == 'nan': \n",
    "        return '?'\n",
    "    floor = int(math.floor(age/10.0) * 10)\n",
    "    return str(floor) + 's'\n",
    "\n",
    "tidy_titanic_df = titanic_df.copy()\n",
    "\n",
    "# Create a single column that is the sum of siblings and parents\n",
    "tidy_titanic_df['FamilySize'] = titanic_df['SibSp'] + titanic_df['Parch']\n",
    "\n",
    "# TODO: Tidy unkown ages\n",
    "\n",
    "# TODO: Decade of age (leading digit fo two digit age)\n",
    "tidy_titanic_df['AgeByDecade'] = titanic_df['Age']\n",
    "tidy_titanic_df['AgeByDecade'] = tidy_titanic_df['AgeByDecade'].apply(age_to_decade_category)\n",
    "columns = ['PassengerId', 'Survived', 'Pclass', 'Name', 'Sex', 'Age', 'AgeByDecade',\n",
    "          'SibSp', 'Parch', 'FamilySize', 'Ticket', 'Fare', 'Embarked']\n",
    "# Correct the order of the columns\n",
    "tidy_titanic_df = tidy_titanic_df[columns]\n",
    "tidy_titanic_df.head()"
   ]
  },
  {
   "cell_type": "markdown",
   "metadata": {},
   "source": [
    "### What are the extrema in age and fare for passenegers who survived or didn't survive? Who are these passengers?"
   ]
  },
  {
   "cell_type": "code",
   "execution_count": 265,
   "metadata": {
    "collapsed": false
   },
   "outputs": [],
   "source": [
    "from IPython.display import display\n",
    "\n",
    "def passenger_by_survival_and_variable_extrema(survived, variable, extrema):\n",
    "    if survived:\n",
    "        survival_filter = tidy_titanic_df['Survived'] == 1\n",
    "    else:\n",
    "        survival_filter = tidy_titanic_df['Survived'] == 0\n",
    "    \n",
    "    extrema_value = getattr(tidy_titanic_df[survival_filter][variable], extrema)()\n",
    "    query_string   = str(variable) + ' == ' + str(extrema_value)\n",
    "    passenger      = tidy_titanic_df[survival_filter].query(query_string)\n",
    "    \n",
    "    return passenger\n",
    "\n",
    "def age_and_fare_exterma_analysis_by_survival(survived):\n",
    "    survival_wording = 'survived' if survived else 'did not survive'\n",
    "    print \"The oldest passeneger(s) who %(survival_wording)s:\" % locals()\n",
    "    display(passenger_by_survival_and_variable_extrema(survived, 'Age', 'max'))\n",
    "    print\"\\n\"\n",
    "    print \"The youngest passeneger(s) who %(survival_wording)s:\" % locals()\n",
    "    display(passenger_by_survival_and_variable_extrema(survived, 'Age', 'min'))\n",
    "    print\"\\n\"\n",
    "    print \"The passeneger(s) who paid the most and %(survival_wording)s:\" % locals()\n",
    "    display(passenger_by_survival_and_variable_extrema(survived, 'Fare', 'max'))\n",
    "    print\"\\n\"\n",
    "    print \"The passeneger(s) who paid the least and %(survival_wording)s:\" % locals()\n",
    "    display(passenger_by_survival_and_variable_extrema(survived, 'Fare', 'min'))"
   ]
  },
  {
   "cell_type": "markdown",
   "metadata": {},
   "source": [
    "#### Extrema for passenegers who survived."
   ]
  },
  {
   "cell_type": "code",
   "execution_count": 266,
   "metadata": {
    "collapsed": false
   },
   "outputs": [
    {
     "name": "stdout",
     "output_type": "stream",
     "text": [
      "The oldest passeneger(s) who survived:\n"
     ]
    },
    {
     "data": {
      "text/html": [
       "<div>\n",
       "<table border=\"1\" class=\"dataframe\">\n",
       "  <thead>\n",
       "    <tr style=\"text-align: right;\">\n",
       "      <th></th>\n",
       "      <th>PassengerId</th>\n",
       "      <th>Survived</th>\n",
       "      <th>Pclass</th>\n",
       "      <th>Name</th>\n",
       "      <th>Sex</th>\n",
       "      <th>Age</th>\n",
       "      <th>AgeByDecade</th>\n",
       "      <th>SibSp</th>\n",
       "      <th>Parch</th>\n",
       "      <th>FamilySize</th>\n",
       "      <th>Ticket</th>\n",
       "      <th>Fare</th>\n",
       "      <th>Embarked</th>\n",
       "    </tr>\n",
       "  </thead>\n",
       "  <tbody>\n",
       "    <tr>\n",
       "      <th>630</th>\n",
       "      <td>631</td>\n",
       "      <td>1</td>\n",
       "      <td>1</td>\n",
       "      <td>Barkworth, Mr. Algernon Henry Wilson</td>\n",
       "      <td>male</td>\n",
       "      <td>80</td>\n",
       "      <td>80s</td>\n",
       "      <td>0</td>\n",
       "      <td>0</td>\n",
       "      <td>0</td>\n",
       "      <td>27042</td>\n",
       "      <td>30</td>\n",
       "      <td>S</td>\n",
       "    </tr>\n",
       "  </tbody>\n",
       "</table>\n",
       "</div>"
      ],
      "text/plain": [
       "     PassengerId  Survived  Pclass                                  Name  \\\n",
       "630          631         1       1  Barkworth, Mr. Algernon Henry Wilson   \n",
       "\n",
       "      Sex  Age AgeByDecade  SibSp  Parch  FamilySize Ticket  Fare Embarked  \n",
       "630  male   80         80s      0      0           0  27042    30        S  "
      ]
     },
     "metadata": {},
     "output_type": "display_data"
    },
    {
     "name": "stdout",
     "output_type": "stream",
     "text": [
      "\n",
      "\n",
      "The youngest passeneger(s) who survived:\n"
     ]
    },
    {
     "data": {
      "text/html": [
       "<div>\n",
       "<table border=\"1\" class=\"dataframe\">\n",
       "  <thead>\n",
       "    <tr style=\"text-align: right;\">\n",
       "      <th></th>\n",
       "      <th>PassengerId</th>\n",
       "      <th>Survived</th>\n",
       "      <th>Pclass</th>\n",
       "      <th>Name</th>\n",
       "      <th>Sex</th>\n",
       "      <th>Age</th>\n",
       "      <th>AgeByDecade</th>\n",
       "      <th>SibSp</th>\n",
       "      <th>Parch</th>\n",
       "      <th>FamilySize</th>\n",
       "      <th>Ticket</th>\n",
       "      <th>Fare</th>\n",
       "      <th>Embarked</th>\n",
       "    </tr>\n",
       "  </thead>\n",
       "  <tbody>\n",
       "    <tr>\n",
       "      <th>803</th>\n",
       "      <td>804</td>\n",
       "      <td>1</td>\n",
       "      <td>3</td>\n",
       "      <td>Thomas, Master. Assad Alexander</td>\n",
       "      <td>male</td>\n",
       "      <td>0.42</td>\n",
       "      <td>0s</td>\n",
       "      <td>0</td>\n",
       "      <td>1</td>\n",
       "      <td>1</td>\n",
       "      <td>2625</td>\n",
       "      <td>8.5167</td>\n",
       "      <td>C</td>\n",
       "    </tr>\n",
       "  </tbody>\n",
       "</table>\n",
       "</div>"
      ],
      "text/plain": [
       "     PassengerId  Survived  Pclass                             Name   Sex  \\\n",
       "803          804         1       3  Thomas, Master. Assad Alexander  male   \n",
       "\n",
       "      Age AgeByDecade  SibSp  Parch  FamilySize Ticket    Fare Embarked  \n",
       "803  0.42          0s      0      1           1   2625  8.5167        C  "
      ]
     },
     "metadata": {},
     "output_type": "display_data"
    },
    {
     "name": "stdout",
     "output_type": "stream",
     "text": [
      "\n",
      "\n",
      "The passeneger(s) who paid the most and survived:\n"
     ]
    },
    {
     "data": {
      "text/html": [
       "<div>\n",
       "<table border=\"1\" class=\"dataframe\">\n",
       "  <thead>\n",
       "    <tr style=\"text-align: right;\">\n",
       "      <th></th>\n",
       "      <th>PassengerId</th>\n",
       "      <th>Survived</th>\n",
       "      <th>Pclass</th>\n",
       "      <th>Name</th>\n",
       "      <th>Sex</th>\n",
       "      <th>Age</th>\n",
       "      <th>AgeByDecade</th>\n",
       "      <th>SibSp</th>\n",
       "      <th>Parch</th>\n",
       "      <th>FamilySize</th>\n",
       "      <th>Ticket</th>\n",
       "      <th>Fare</th>\n",
       "      <th>Embarked</th>\n",
       "    </tr>\n",
       "  </thead>\n",
       "  <tbody>\n",
       "    <tr>\n",
       "      <th>258</th>\n",
       "      <td>259</td>\n",
       "      <td>1</td>\n",
       "      <td>1</td>\n",
       "      <td>Ward, Miss. Anna</td>\n",
       "      <td>female</td>\n",
       "      <td>35</td>\n",
       "      <td>30s</td>\n",
       "      <td>0</td>\n",
       "      <td>0</td>\n",
       "      <td>0</td>\n",
       "      <td>PC 17755</td>\n",
       "      <td>512.3292</td>\n",
       "      <td>C</td>\n",
       "    </tr>\n",
       "    <tr>\n",
       "      <th>679</th>\n",
       "      <td>680</td>\n",
       "      <td>1</td>\n",
       "      <td>1</td>\n",
       "      <td>Cardeza, Mr. Thomas Drake Martinez</td>\n",
       "      <td>male</td>\n",
       "      <td>36</td>\n",
       "      <td>30s</td>\n",
       "      <td>0</td>\n",
       "      <td>1</td>\n",
       "      <td>1</td>\n",
       "      <td>PC 17755</td>\n",
       "      <td>512.3292</td>\n",
       "      <td>C</td>\n",
       "    </tr>\n",
       "    <tr>\n",
       "      <th>737</th>\n",
       "      <td>738</td>\n",
       "      <td>1</td>\n",
       "      <td>1</td>\n",
       "      <td>Lesurer, Mr. Gustave J</td>\n",
       "      <td>male</td>\n",
       "      <td>35</td>\n",
       "      <td>30s</td>\n",
       "      <td>0</td>\n",
       "      <td>0</td>\n",
       "      <td>0</td>\n",
       "      <td>PC 17755</td>\n",
       "      <td>512.3292</td>\n",
       "      <td>C</td>\n",
       "    </tr>\n",
       "  </tbody>\n",
       "</table>\n",
       "</div>"
      ],
      "text/plain": [
       "     PassengerId  Survived  Pclass                                Name  \\\n",
       "258          259         1       1                    Ward, Miss. Anna   \n",
       "679          680         1       1  Cardeza, Mr. Thomas Drake Martinez   \n",
       "737          738         1       1              Lesurer, Mr. Gustave J   \n",
       "\n",
       "        Sex  Age AgeByDecade  SibSp  Parch  FamilySize    Ticket      Fare  \\\n",
       "258  female   35         30s      0      0           0  PC 17755  512.3292   \n",
       "679    male   36         30s      0      1           1  PC 17755  512.3292   \n",
       "737    male   35         30s      0      0           0  PC 17755  512.3292   \n",
       "\n",
       "    Embarked  \n",
       "258        C  \n",
       "679        C  \n",
       "737        C  "
      ]
     },
     "metadata": {},
     "output_type": "display_data"
    },
    {
     "name": "stdout",
     "output_type": "stream",
     "text": [
      "\n",
      "\n",
      "The passeneger(s) who paid the least and survived:\n"
     ]
    },
    {
     "data": {
      "text/html": [
       "<div>\n",
       "<table border=\"1\" class=\"dataframe\">\n",
       "  <thead>\n",
       "    <tr style=\"text-align: right;\">\n",
       "      <th></th>\n",
       "      <th>PassengerId</th>\n",
       "      <th>Survived</th>\n",
       "      <th>Pclass</th>\n",
       "      <th>Name</th>\n",
       "      <th>Sex</th>\n",
       "      <th>Age</th>\n",
       "      <th>AgeByDecade</th>\n",
       "      <th>SibSp</th>\n",
       "      <th>Parch</th>\n",
       "      <th>FamilySize</th>\n",
       "      <th>Ticket</th>\n",
       "      <th>Fare</th>\n",
       "      <th>Embarked</th>\n",
       "    </tr>\n",
       "  </thead>\n",
       "  <tbody>\n",
       "    <tr>\n",
       "      <th>271</th>\n",
       "      <td>272</td>\n",
       "      <td>1</td>\n",
       "      <td>3</td>\n",
       "      <td>Tornquist, Mr. William Henry</td>\n",
       "      <td>male</td>\n",
       "      <td>25</td>\n",
       "      <td>20s</td>\n",
       "      <td>0</td>\n",
       "      <td>0</td>\n",
       "      <td>0</td>\n",
       "      <td>LINE</td>\n",
       "      <td>0</td>\n",
       "      <td>S</td>\n",
       "    </tr>\n",
       "  </tbody>\n",
       "</table>\n",
       "</div>"
      ],
      "text/plain": [
       "     PassengerId  Survived  Pclass                          Name   Sex  Age  \\\n",
       "271          272         1       3  Tornquist, Mr. William Henry  male   25   \n",
       "\n",
       "    AgeByDecade  SibSp  Parch  FamilySize Ticket  Fare Embarked  \n",
       "271         20s      0      0           0   LINE     0        S  "
      ]
     },
     "metadata": {},
     "output_type": "display_data"
    }
   ],
   "source": [
    "age_and_fare_exterma_analysis_by_survival(True)"
   ]
  },
  {
   "cell_type": "markdown",
   "metadata": {},
   "source": [
    "#### Extrema for passenegers who did not survive."
   ]
  },
  {
   "cell_type": "code",
   "execution_count": 267,
   "metadata": {
    "collapsed": false
   },
   "outputs": [
    {
     "name": "stdout",
     "output_type": "stream",
     "text": [
      "The oldest passeneger(s) who did not survive:\n"
     ]
    },
    {
     "data": {
      "text/html": [
       "<div>\n",
       "<table border=\"1\" class=\"dataframe\">\n",
       "  <thead>\n",
       "    <tr style=\"text-align: right;\">\n",
       "      <th></th>\n",
       "      <th>PassengerId</th>\n",
       "      <th>Survived</th>\n",
       "      <th>Pclass</th>\n",
       "      <th>Name</th>\n",
       "      <th>Sex</th>\n",
       "      <th>Age</th>\n",
       "      <th>AgeByDecade</th>\n",
       "      <th>SibSp</th>\n",
       "      <th>Parch</th>\n",
       "      <th>FamilySize</th>\n",
       "      <th>Ticket</th>\n",
       "      <th>Fare</th>\n",
       "      <th>Embarked</th>\n",
       "    </tr>\n",
       "  </thead>\n",
       "  <tbody>\n",
       "    <tr>\n",
       "      <th>851</th>\n",
       "      <td>852</td>\n",
       "      <td>0</td>\n",
       "      <td>3</td>\n",
       "      <td>Svensson, Mr. Johan</td>\n",
       "      <td>male</td>\n",
       "      <td>74</td>\n",
       "      <td>70s</td>\n",
       "      <td>0</td>\n",
       "      <td>0</td>\n",
       "      <td>0</td>\n",
       "      <td>347060</td>\n",
       "      <td>7.775</td>\n",
       "      <td>S</td>\n",
       "    </tr>\n",
       "  </tbody>\n",
       "</table>\n",
       "</div>"
      ],
      "text/plain": [
       "     PassengerId  Survived  Pclass                 Name   Sex  Age  \\\n",
       "851          852         0       3  Svensson, Mr. Johan  male   74   \n",
       "\n",
       "    AgeByDecade  SibSp  Parch  FamilySize  Ticket   Fare Embarked  \n",
       "851         70s      0      0           0  347060  7.775        S  "
      ]
     },
     "metadata": {},
     "output_type": "display_data"
    },
    {
     "name": "stdout",
     "output_type": "stream",
     "text": [
      "\n",
      "\n",
      "The youngest passeneger(s) who did not survive:\n"
     ]
    },
    {
     "data": {
      "text/html": [
       "<div>\n",
       "<table border=\"1\" class=\"dataframe\">\n",
       "  <thead>\n",
       "    <tr style=\"text-align: right;\">\n",
       "      <th></th>\n",
       "      <th>PassengerId</th>\n",
       "      <th>Survived</th>\n",
       "      <th>Pclass</th>\n",
       "      <th>Name</th>\n",
       "      <th>Sex</th>\n",
       "      <th>Age</th>\n",
       "      <th>AgeByDecade</th>\n",
       "      <th>SibSp</th>\n",
       "      <th>Parch</th>\n",
       "      <th>FamilySize</th>\n",
       "      <th>Ticket</th>\n",
       "      <th>Fare</th>\n",
       "      <th>Embarked</th>\n",
       "    </tr>\n",
       "  </thead>\n",
       "  <tbody>\n",
       "    <tr>\n",
       "      <th>164</th>\n",
       "      <td>165</td>\n",
       "      <td>0</td>\n",
       "      <td>3</td>\n",
       "      <td>Panula, Master. Eino Viljami</td>\n",
       "      <td>male</td>\n",
       "      <td>1</td>\n",
       "      <td>0s</td>\n",
       "      <td>4</td>\n",
       "      <td>1</td>\n",
       "      <td>5</td>\n",
       "      <td>3101295</td>\n",
       "      <td>39.6875</td>\n",
       "      <td>S</td>\n",
       "    </tr>\n",
       "    <tr>\n",
       "      <th>386</th>\n",
       "      <td>387</td>\n",
       "      <td>0</td>\n",
       "      <td>3</td>\n",
       "      <td>Goodwin, Master. Sidney Leonard</td>\n",
       "      <td>male</td>\n",
       "      <td>1</td>\n",
       "      <td>0s</td>\n",
       "      <td>5</td>\n",
       "      <td>2</td>\n",
       "      <td>7</td>\n",
       "      <td>CA 2144</td>\n",
       "      <td>46.9000</td>\n",
       "      <td>S</td>\n",
       "    </tr>\n",
       "  </tbody>\n",
       "</table>\n",
       "</div>"
      ],
      "text/plain": [
       "     PassengerId  Survived  Pclass                             Name   Sex  \\\n",
       "164          165         0       3     Panula, Master. Eino Viljami  male   \n",
       "386          387         0       3  Goodwin, Master. Sidney Leonard  male   \n",
       "\n",
       "     Age AgeByDecade  SibSp  Parch  FamilySize   Ticket     Fare Embarked  \n",
       "164    1          0s      4      1           5  3101295  39.6875        S  \n",
       "386    1          0s      5      2           7  CA 2144  46.9000        S  "
      ]
     },
     "metadata": {},
     "output_type": "display_data"
    },
    {
     "name": "stdout",
     "output_type": "stream",
     "text": [
      "\n",
      "\n",
      "The passeneger(s) who paid the most and did not survive:\n"
     ]
    },
    {
     "data": {
      "text/html": [
       "<div>\n",
       "<table border=\"1\" class=\"dataframe\">\n",
       "  <thead>\n",
       "    <tr style=\"text-align: right;\">\n",
       "      <th></th>\n",
       "      <th>PassengerId</th>\n",
       "      <th>Survived</th>\n",
       "      <th>Pclass</th>\n",
       "      <th>Name</th>\n",
       "      <th>Sex</th>\n",
       "      <th>Age</th>\n",
       "      <th>AgeByDecade</th>\n",
       "      <th>SibSp</th>\n",
       "      <th>Parch</th>\n",
       "      <th>FamilySize</th>\n",
       "      <th>Ticket</th>\n",
       "      <th>Fare</th>\n",
       "      <th>Embarked</th>\n",
       "    </tr>\n",
       "  </thead>\n",
       "  <tbody>\n",
       "    <tr>\n",
       "      <th>27</th>\n",
       "      <td>28</td>\n",
       "      <td>0</td>\n",
       "      <td>1</td>\n",
       "      <td>Fortune, Mr. Charles Alexander</td>\n",
       "      <td>male</td>\n",
       "      <td>19</td>\n",
       "      <td>10s</td>\n",
       "      <td>3</td>\n",
       "      <td>2</td>\n",
       "      <td>5</td>\n",
       "      <td>19950</td>\n",
       "      <td>263</td>\n",
       "      <td>S</td>\n",
       "    </tr>\n",
       "    <tr>\n",
       "      <th>438</th>\n",
       "      <td>439</td>\n",
       "      <td>0</td>\n",
       "      <td>1</td>\n",
       "      <td>Fortune, Mr. Mark</td>\n",
       "      <td>male</td>\n",
       "      <td>64</td>\n",
       "      <td>60s</td>\n",
       "      <td>1</td>\n",
       "      <td>4</td>\n",
       "      <td>5</td>\n",
       "      <td>19950</td>\n",
       "      <td>263</td>\n",
       "      <td>S</td>\n",
       "    </tr>\n",
       "  </tbody>\n",
       "</table>\n",
       "</div>"
      ],
      "text/plain": [
       "     PassengerId  Survived  Pclass                            Name   Sex  Age  \\\n",
       "27            28         0       1  Fortune, Mr. Charles Alexander  male   19   \n",
       "438          439         0       1               Fortune, Mr. Mark  male   64   \n",
       "\n",
       "    AgeByDecade  SibSp  Parch  FamilySize Ticket  Fare Embarked  \n",
       "27          10s      3      2           5  19950   263        S  \n",
       "438         60s      1      4           5  19950   263        S  "
      ]
     },
     "metadata": {},
     "output_type": "display_data"
    },
    {
     "name": "stdout",
     "output_type": "stream",
     "text": [
      "\n",
      "\n",
      "The passeneger(s) who paid the least and did not survive:\n"
     ]
    },
    {
     "data": {
      "text/html": [
       "<div>\n",
       "<table border=\"1\" class=\"dataframe\">\n",
       "  <thead>\n",
       "    <tr style=\"text-align: right;\">\n",
       "      <th></th>\n",
       "      <th>PassengerId</th>\n",
       "      <th>Survived</th>\n",
       "      <th>Pclass</th>\n",
       "      <th>Name</th>\n",
       "      <th>Sex</th>\n",
       "      <th>Age</th>\n",
       "      <th>AgeByDecade</th>\n",
       "      <th>SibSp</th>\n",
       "      <th>Parch</th>\n",
       "      <th>FamilySize</th>\n",
       "      <th>Ticket</th>\n",
       "      <th>Fare</th>\n",
       "      <th>Embarked</th>\n",
       "    </tr>\n",
       "  </thead>\n",
       "  <tbody>\n",
       "    <tr>\n",
       "      <th>179</th>\n",
       "      <td>180</td>\n",
       "      <td>0</td>\n",
       "      <td>3</td>\n",
       "      <td>Leonard, Mr. Lionel</td>\n",
       "      <td>male</td>\n",
       "      <td>36</td>\n",
       "      <td>30s</td>\n",
       "      <td>0</td>\n",
       "      <td>0</td>\n",
       "      <td>0</td>\n",
       "      <td>LINE</td>\n",
       "      <td>0</td>\n",
       "      <td>S</td>\n",
       "    </tr>\n",
       "    <tr>\n",
       "      <th>263</th>\n",
       "      <td>264</td>\n",
       "      <td>0</td>\n",
       "      <td>1</td>\n",
       "      <td>Harrison, Mr. William</td>\n",
       "      <td>male</td>\n",
       "      <td>40</td>\n",
       "      <td>40s</td>\n",
       "      <td>0</td>\n",
       "      <td>0</td>\n",
       "      <td>0</td>\n",
       "      <td>112059</td>\n",
       "      <td>0</td>\n",
       "      <td>S</td>\n",
       "    </tr>\n",
       "    <tr>\n",
       "      <th>277</th>\n",
       "      <td>278</td>\n",
       "      <td>0</td>\n",
       "      <td>2</td>\n",
       "      <td>Parkes, Mr. Francis \"Frank\"</td>\n",
       "      <td>male</td>\n",
       "      <td>NaN</td>\n",
       "      <td>?</td>\n",
       "      <td>0</td>\n",
       "      <td>0</td>\n",
       "      <td>0</td>\n",
       "      <td>239853</td>\n",
       "      <td>0</td>\n",
       "      <td>S</td>\n",
       "    </tr>\n",
       "    <tr>\n",
       "      <th>302</th>\n",
       "      <td>303</td>\n",
       "      <td>0</td>\n",
       "      <td>3</td>\n",
       "      <td>Johnson, Mr. William Cahoone Jr</td>\n",
       "      <td>male</td>\n",
       "      <td>19</td>\n",
       "      <td>10s</td>\n",
       "      <td>0</td>\n",
       "      <td>0</td>\n",
       "      <td>0</td>\n",
       "      <td>LINE</td>\n",
       "      <td>0</td>\n",
       "      <td>S</td>\n",
       "    </tr>\n",
       "    <tr>\n",
       "      <th>413</th>\n",
       "      <td>414</td>\n",
       "      <td>0</td>\n",
       "      <td>2</td>\n",
       "      <td>Cunningham, Mr. Alfred Fleming</td>\n",
       "      <td>male</td>\n",
       "      <td>NaN</td>\n",
       "      <td>?</td>\n",
       "      <td>0</td>\n",
       "      <td>0</td>\n",
       "      <td>0</td>\n",
       "      <td>239853</td>\n",
       "      <td>0</td>\n",
       "      <td>S</td>\n",
       "    </tr>\n",
       "    <tr>\n",
       "      <th>466</th>\n",
       "      <td>467</td>\n",
       "      <td>0</td>\n",
       "      <td>2</td>\n",
       "      <td>Campbell, Mr. William</td>\n",
       "      <td>male</td>\n",
       "      <td>NaN</td>\n",
       "      <td>?</td>\n",
       "      <td>0</td>\n",
       "      <td>0</td>\n",
       "      <td>0</td>\n",
       "      <td>239853</td>\n",
       "      <td>0</td>\n",
       "      <td>S</td>\n",
       "    </tr>\n",
       "    <tr>\n",
       "      <th>481</th>\n",
       "      <td>482</td>\n",
       "      <td>0</td>\n",
       "      <td>2</td>\n",
       "      <td>Frost, Mr. Anthony Wood \"Archie\"</td>\n",
       "      <td>male</td>\n",
       "      <td>NaN</td>\n",
       "      <td>?</td>\n",
       "      <td>0</td>\n",
       "      <td>0</td>\n",
       "      <td>0</td>\n",
       "      <td>239854</td>\n",
       "      <td>0</td>\n",
       "      <td>S</td>\n",
       "    </tr>\n",
       "    <tr>\n",
       "      <th>597</th>\n",
       "      <td>598</td>\n",
       "      <td>0</td>\n",
       "      <td>3</td>\n",
       "      <td>Johnson, Mr. Alfred</td>\n",
       "      <td>male</td>\n",
       "      <td>49</td>\n",
       "      <td>40s</td>\n",
       "      <td>0</td>\n",
       "      <td>0</td>\n",
       "      <td>0</td>\n",
       "      <td>LINE</td>\n",
       "      <td>0</td>\n",
       "      <td>S</td>\n",
       "    </tr>\n",
       "    <tr>\n",
       "      <th>633</th>\n",
       "      <td>634</td>\n",
       "      <td>0</td>\n",
       "      <td>1</td>\n",
       "      <td>Parr, Mr. William Henry Marsh</td>\n",
       "      <td>male</td>\n",
       "      <td>NaN</td>\n",
       "      <td>?</td>\n",
       "      <td>0</td>\n",
       "      <td>0</td>\n",
       "      <td>0</td>\n",
       "      <td>112052</td>\n",
       "      <td>0</td>\n",
       "      <td>S</td>\n",
       "    </tr>\n",
       "    <tr>\n",
       "      <th>674</th>\n",
       "      <td>675</td>\n",
       "      <td>0</td>\n",
       "      <td>2</td>\n",
       "      <td>Watson, Mr. Ennis Hastings</td>\n",
       "      <td>male</td>\n",
       "      <td>NaN</td>\n",
       "      <td>?</td>\n",
       "      <td>0</td>\n",
       "      <td>0</td>\n",
       "      <td>0</td>\n",
       "      <td>239856</td>\n",
       "      <td>0</td>\n",
       "      <td>S</td>\n",
       "    </tr>\n",
       "    <tr>\n",
       "      <th>732</th>\n",
       "      <td>733</td>\n",
       "      <td>0</td>\n",
       "      <td>2</td>\n",
       "      <td>Knight, Mr. Robert J</td>\n",
       "      <td>male</td>\n",
       "      <td>NaN</td>\n",
       "      <td>?</td>\n",
       "      <td>0</td>\n",
       "      <td>0</td>\n",
       "      <td>0</td>\n",
       "      <td>239855</td>\n",
       "      <td>0</td>\n",
       "      <td>S</td>\n",
       "    </tr>\n",
       "    <tr>\n",
       "      <th>806</th>\n",
       "      <td>807</td>\n",
       "      <td>0</td>\n",
       "      <td>1</td>\n",
       "      <td>Andrews, Mr. Thomas Jr</td>\n",
       "      <td>male</td>\n",
       "      <td>39</td>\n",
       "      <td>30s</td>\n",
       "      <td>0</td>\n",
       "      <td>0</td>\n",
       "      <td>0</td>\n",
       "      <td>112050</td>\n",
       "      <td>0</td>\n",
       "      <td>S</td>\n",
       "    </tr>\n",
       "    <tr>\n",
       "      <th>815</th>\n",
       "      <td>816</td>\n",
       "      <td>0</td>\n",
       "      <td>1</td>\n",
       "      <td>Fry, Mr. Richard</td>\n",
       "      <td>male</td>\n",
       "      <td>NaN</td>\n",
       "      <td>?</td>\n",
       "      <td>0</td>\n",
       "      <td>0</td>\n",
       "      <td>0</td>\n",
       "      <td>112058</td>\n",
       "      <td>0</td>\n",
       "      <td>S</td>\n",
       "    </tr>\n",
       "    <tr>\n",
       "      <th>822</th>\n",
       "      <td>823</td>\n",
       "      <td>0</td>\n",
       "      <td>1</td>\n",
       "      <td>Reuchlin, Jonkheer. John George</td>\n",
       "      <td>male</td>\n",
       "      <td>38</td>\n",
       "      <td>30s</td>\n",
       "      <td>0</td>\n",
       "      <td>0</td>\n",
       "      <td>0</td>\n",
       "      <td>19972</td>\n",
       "      <td>0</td>\n",
       "      <td>S</td>\n",
       "    </tr>\n",
       "  </tbody>\n",
       "</table>\n",
       "</div>"
      ],
      "text/plain": [
       "     PassengerId  Survived  Pclass                              Name   Sex  \\\n",
       "179          180         0       3               Leonard, Mr. Lionel  male   \n",
       "263          264         0       1             Harrison, Mr. William  male   \n",
       "277          278         0       2       Parkes, Mr. Francis \"Frank\"  male   \n",
       "302          303         0       3   Johnson, Mr. William Cahoone Jr  male   \n",
       "413          414         0       2    Cunningham, Mr. Alfred Fleming  male   \n",
       "466          467         0       2             Campbell, Mr. William  male   \n",
       "481          482         0       2  Frost, Mr. Anthony Wood \"Archie\"  male   \n",
       "597          598         0       3               Johnson, Mr. Alfred  male   \n",
       "633          634         0       1     Parr, Mr. William Henry Marsh  male   \n",
       "674          675         0       2        Watson, Mr. Ennis Hastings  male   \n",
       "732          733         0       2              Knight, Mr. Robert J  male   \n",
       "806          807         0       1            Andrews, Mr. Thomas Jr  male   \n",
       "815          816         0       1                  Fry, Mr. Richard  male   \n",
       "822          823         0       1   Reuchlin, Jonkheer. John George  male   \n",
       "\n",
       "     Age AgeByDecade  SibSp  Parch  FamilySize  Ticket  Fare Embarked  \n",
       "179   36         30s      0      0           0    LINE     0        S  \n",
       "263   40         40s      0      0           0  112059     0        S  \n",
       "277  NaN           ?      0      0           0  239853     0        S  \n",
       "302   19         10s      0      0           0    LINE     0        S  \n",
       "413  NaN           ?      0      0           0  239853     0        S  \n",
       "466  NaN           ?      0      0           0  239853     0        S  \n",
       "481  NaN           ?      0      0           0  239854     0        S  \n",
       "597   49         40s      0      0           0    LINE     0        S  \n",
       "633  NaN           ?      0      0           0  112052     0        S  \n",
       "674  NaN           ?      0      0           0  239856     0        S  \n",
       "732  NaN           ?      0      0           0  239855     0        S  \n",
       "806   39         30s      0      0           0  112050     0        S  \n",
       "815  NaN           ?      0      0           0  112058     0        S  \n",
       "822   38         30s      0      0           0   19972     0        S  "
      ]
     },
     "metadata": {},
     "output_type": "display_data"
    }
   ],
   "source": [
    "age_and_fare_exterma_analysis_by_survival(False)"
   ]
  },
  {
   "cell_type": "markdown",
   "metadata": {},
   "source": [
    "TODO: Write an analysis of the above."
   ]
  },
  {
   "cell_type": "markdown",
   "metadata": {},
   "source": [
    "### Set up code to support the analysis of two sets of categorical variables"
   ]
  },
  {
   "cell_type": "code",
   "execution_count": 270,
   "metadata": {
    "collapsed": false
   },
   "outputs": [],
   "source": [
    "import math\n",
    "import seaborn as sns\n",
    "from scipy.stats import chisquare, chi2_contingency, norm\n",
    "%matplotlib inline\n",
    "\n",
    "def descriptive_statistics_of_numeric_series(var, label, df=tidy_titanic_df):\n",
    "    series = df[var]\n",
    "    print \"Summary Statistics for \" + label\n",
    "    print \"Median: \" + str(series.median())\n",
    "    print \"Mean: \" + str(series.mean())\n",
    "    print \"Standard Deviation: \" + str(series.std())\n",
    "    print \"\\n\"\n",
    "\n",
    "def distinct_counts_of_categorical_series(var, label, df=tidy_titanic_df):\n",
    "    series = df[var].sort_values()\n",
    "    print \"Category counts for \" + label\n",
    "    print series.value_counts().sort_index()\n",
    "    print \"\\n\"\n",
    "    \n",
    "def visual_analysis_of_two_categorical_variables(var_a, var_b, df=tidy_titanic_df):\n",
    "    series_a = df[var_a].sort_values()\n",
    "    series_b = df[var_b].sort_values()\n",
    "    colour_palette = \"GnBu_d\"\n",
    "    sns.plt.figure(figsize=(16, 6))\n",
    "    sns.plt.subplot(1,3,1)\n",
    "    sns.countplot(series_a, palette=colour_palette)\n",
    "    sns.plt.subplot(1,3,2)\n",
    "    sns.violinplot(x=series_a, y=series_b, palette=colour_palette, inner=\"stick\");\n",
    "    sns.plt.subplot(1,3,3)\n",
    "    sns.countplot(series_b, palette=colour_palette)\n",
    "    sns.plt.show()\n",
    "    \n",
    "def cramers_v_anlysis(vars_str, chi2, pivot_table_shape, df=tidy_titanic_df):    \n",
    "    V = math.sqrt(chi2 / len(df) / (min(table_of_frequencies.shape) - 1))\n",
    "    response = (\"The Cramer's V measure of association for \" + vars_str + \" has a value of \" + str(V) + \"\\n\" +\n",
    "        \"equating to a \")\n",
    "    if V < 0.1: response += \"ineffectual\"\n",
    "    elif V < 0.2: response += \"small\"\n",
    "    elif V < 0.3: response += \"small to medium\"\n",
    "    elif V < 0.4: response += \"medium\"\n",
    "    elif V < 0.5: response += \"medium to large\"\n",
    "    else: response += \"large\"\n",
    "    response += \" effect size [1][2].\"\n",
    "    return response\n",
    "    \n",
    "def chi_squared_and_carmers_v_anlysis(var_a, var_b, df=tidy_titanic_df):\n",
    "    vars_str = var_a + \" and \" + var_b\n",
    "    table_of_frequencies = df.pivot_table(index=var_a, columns=var_b, values='PassengerId', \n",
    "                                                       fill_value=0, aggfunc=lambda x: len(x.unique()))\n",
    "    alpha = 0.001\n",
    "    conf = (1 - alpha)*100\n",
    "    print \"χ²: \" + vars_str\n",
    "    print \"H0: The null hypothesis for this χ² test is that \" + vars_str + \" are independent of each other.\"\n",
    "    print \"HA: The alternative hypothesis for this χ² test is that \" + vars_str + \" are in some way dependent.\"\n",
    "    print (\"For this test, we are considering an alpha level \" + str(alpha) + \" allowing for \" + str(conf) + \"% \" +\n",
    "        \"level of confidence.\")\n",
    "    chi2, p, dof, ex = chi2_contingency(table_of_frequencies)\n",
    "    dof_label = (\"degree\" if dof == 1 else \"degrees\") + \" of freedom\"\n",
    "    outcome = (\"With a p-value of \" + str(p) + \" and a χ² statistic of \" + str(chi2) + \" with \" + \n",
    "        str(dof) + \" \" + dof_label  + \" we\\n\")\n",
    "    reject_null = p < alpha\n",
    "    if reject_null:\n",
    "        outcome += \"reject the null hypothesis and accept that \" + vars_str + \" are in some way dependent.\"\n",
    "    else:\n",
    "        outcome += \"fail to reject the null hypothesis that \" + vars_str + \" are independent.\"\n",
    "    hr = \"-----------------------------------------------------------------------------------------------------\"\n",
    "    print hr\n",
    "    print outcome\n",
    "    print hr\n",
    "    print cramers_v_anlysis(vars_str, chi2, table_of_frequencies.shape, df)\n",
    "    print hr\n",
    "    "
   ]
  },
  {
   "cell_type": "markdown",
   "metadata": {},
   "source": [
    "### Is there a relationship between socio-economic status and the size of families aboard the Titanic?"
   ]
  },
  {
   "cell_type": "code",
   "execution_count": 271,
   "metadata": {
    "collapsed": false
   },
   "outputs": [
    {
     "name": "stdout",
     "output_type": "stream",
     "text": [
      "Summary Statistics for Socio-Economic Status (Pclass)\n",
      "Median: 3.0\n",
      "Mean: 2.30864197531\n",
      "Standard Deviation: 0.836071240977\n",
      "\n",
      "\n",
      "Category counts for Socio-Economic Status (Pclass)\n",
      "1    216\n",
      "2    184\n",
      "3    491\n",
      "Name: Pclass, dtype: int64\n",
      "\n",
      "\n",
      "Summary Statistics for Family Onboard (FamilySize)\n",
      "Median: 0.0\n",
      "Mean: 0.904601571268\n",
      "Standard Deviation: 1.61345854136\n",
      "\n",
      "\n",
      "Category counts for Family Onboard (FamilySize)\n",
      "0     537\n",
      "1     161\n",
      "2     102\n",
      "3      29\n",
      "4      15\n",
      "5      22\n",
      "6      12\n",
      "7       6\n",
      "10      7\n",
      "Name: FamilySize, dtype: int64\n",
      "\n",
      "\n"
     ]
    },
    {
     "data": {
      "image/png": "[encoded data removed]",
      "text/plain": [
       "<matplotlib.figure.Figure at 0x1115e3890>"
      ]
     },
     "metadata": {},
     "output_type": "display_data"
    },
    {
     "name": "stdout",
     "output_type": "stream",
     "text": [
      "χ²: Pclass and FamilySize\n",
      "H0: The null hypothesis for this χ² test is that Pclass and FamilySize are independent of each other.\n",
      "HA: The alternative hypothesis for this χ² test is that Pclass and FamilySize are in some way dependent.\n",
      "For this test, we are considering an alpha level 0.001 allowing for 99.9% level of confidence.\n",
      "-----------------------------------------------------------------------------------------------------\n",
      "With a p-value of 3.48927313495e-12 and a χ² statistic of 89.2150566031 with 16 degrees of freedom we\n",
      "reject the null hypothesis and accept that Pclass and FamilySize are in some way dependent.\n",
      "-----------------------------------------------------------------------------------------------------\n",
      "The Cramer's V measure of association for Pclass and FamilySize has a value of 0.223751125126\n",
      "equating to a small to medium effect size [1][2].\n",
      "-----------------------------------------------------------------------------------------------------\n"
     ]
    }
   ],
   "source": [
    "descriptive_statistics_of_numeric_series('Pclass', \"Socio-Economic Status (Pclass)\")\n",
    "distinct_counts_of_categorical_series('Pclass', \"Socio-Economic Status (Pclass)\")\n",
    "descriptive_statistics_of_numeric_series('FamilySize', \"Family Onboard (FamilySize)\")\n",
    "distinct_counts_of_categorical_series('FamilySize', \"Family Onboard (FamilySize)\")\n",
    "visual_analysis_of_two_categorical_variables('Pclass', 'FamilySize')\n",
    "chi_squared_and_carmers_v_anlysis('Pclass', 'FamilySize')"
   ]
  },
  {
   "cell_type": "markdown",
   "metadata": {},
   "source": [
    "TODO: Write an analysis of the above."
   ]
  },
  {
   "cell_type": "markdown",
   "metadata": {},
   "source": [
    "### Is there a relationship between socio-economic status and where the passengers embarked?"
   ]
  },
  {
   "cell_type": "code",
   "execution_count": 261,
   "metadata": {
    "collapsed": false
   },
   "outputs": [
    {
     "name": "stdout",
     "output_type": "stream",
     "text": [
      "Category counts for Port of Embarkation\n",
      "C    168\n",
      "Q     77\n",
      "S    644\n",
      "Name: Embarked, dtype: int64\n",
      "\n",
      "\n"
     ]
    },
    {
     "data": {
      "image/png": "[encoded data removed]",
      "text/plain": [
       "<matplotlib.figure.Figure at 0x1101485d0>"
      ]
     },
     "metadata": {},
     "output_type": "display_data"
    },
    {
     "name": "stdout",
     "output_type": "stream",
     "text": [
      "χ²: Pclass and Embarked\n",
      "H0: The null hypothesis for this χ² test is that Pclass and Embarked are independent of each other.\n",
      "HA: The alternative hypothesis for this χ² test is that Pclass and Embarked are in some way dependent.\n",
      "For this test, we are considering an alpha level 0.001 allowing for 99.9% level of confidence.\n",
      "-----------------------------------------------------------------------------------------------------\n",
      "With a p-value of 8.43526781989e-26 and a χ² statistic of 123.75190953 with 4 degrees of freedom we\n",
      "reject the null hypothesis and accept that Pclass and Embarked are in some way dependent.\n",
      "-----------------------------------------------------------------------------------------------------\n",
      "The Cramer's V measure of association for Pclass and Embarked has a value of 0.263525171492\n",
      "equating to a small to medium effect size [1][2].\n",
      "-----------------------------------------------------------------------------------------------------\n"
     ]
    }
   ],
   "source": [
    "distinct_counts_of_categorical_series('Embarked', \"Port of Embarkation\")\n",
    "visual_analysis_of_two_categorical_variables('Pclass', 'Embarked')\n",
    "chi_squared_and_carmers_v_anlysis('Pclass', 'Embarked')"
   ]
  },
  {
   "cell_type": "markdown",
   "metadata": {},
   "source": [
    "TODO: Write an analysis of the above."
   ]
  },
  {
   "cell_type": "markdown",
   "metadata": {},
   "source": [
    "### Were passengers with higher socio-economic status more likely to survive?"
   ]
  },
  {
   "cell_type": "code",
   "execution_count": 262,
   "metadata": {
    "collapsed": false
   },
   "outputs": [
    {
     "name": "stdout",
     "output_type": "stream",
     "text": [
      "Summary Statistics for Survived\n",
      "Median: 0.0\n",
      "Mean: 0.383838383838\n",
      "Standard Deviation: 0.486592454265\n",
      "\n",
      "\n",
      "Category counts for Survived\n",
      "0    549\n",
      "1    342\n",
      "Name: Survived, dtype: int64\n",
      "\n",
      "\n"
     ]
    },
    {
     "data": {
      "image/png": "[encoded data removed]",
      "text/plain": [
       "<matplotlib.figure.Figure at 0x1104a2490>"
      ]
     },
     "metadata": {},
     "output_type": "display_data"
    },
    {
     "name": "stdout",
     "output_type": "stream",
     "text": [
      "χ²: Pclass and Survived\n",
      "H0: The null hypothesis for this χ² test is that Pclass and Survived are independent of each other.\n",
      "HA: The alternative hypothesis for this χ² test is that Pclass and Survived are in some way dependent.\n",
      "For this test, we are considering an alpha level 0.001 allowing for 99.9% level of confidence.\n",
      "-----------------------------------------------------------------------------------------------------\n",
      "With a p-value of 4.5492517113e-23 and a χ² statistic of 102.888988757 with 2 degrees of freedom we\n",
      "reject the null hypothesis and accept that Pclass and Survived are in some way dependent.\n",
      "-----------------------------------------------------------------------------------------------------\n",
      "The Cramer's V measure of association for Pclass and Survived has a value of 0.339817388005\n",
      "equating to a medium effect size [1][2].\n",
      "-----------------------------------------------------------------------------------------------------\n"
     ]
    }
   ],
   "source": [
    "descriptive_statistics_of_numeric_series('Survived', \"Survived\")\n",
    "distinct_counts_of_categorical_series('Survived', \"Survived\")\n",
    "visual_analysis_of_two_categorical_variables('Pclass', 'Survived')\n",
    "chi_squared_and_carmers_v_anlysis('Pclass', 'Survived')"
   ]
  },
  {
   "cell_type": "markdown",
   "metadata": {},
   "source": [
    "TODO: Write an analysis of the above."
   ]
  },
  {
   "cell_type": "markdown",
   "metadata": {},
   "source": [
    "### Were men or women more likely to survive?"
   ]
  },
  {
   "cell_type": "code",
   "execution_count": 263,
   "metadata": {
    "collapsed": false
   },
   "outputs": [
    {
     "name": "stdout",
     "output_type": "stream",
     "text": [
      "Category counts for Sex\n",
      "female    314\n",
      "male      577\n",
      "Name: Sex, dtype: int64\n",
      "\n",
      "\n"
     ]
    },
    {
     "data": {
      "image/png": "[encoded data removed]",
      "text/plain": [
       "<matplotlib.figure.Figure at 0x1104a2110>"
      ]
     },
     "metadata": {},
     "output_type": "display_data"
    },
    {
     "name": "stdout",
     "output_type": "stream",
     "text": [
      "χ²: Survived and Sex\n",
      "H0: The null hypothesis for this χ² test is that Survived and Sex are independent of each other.\n",
      "HA: The alternative hypothesis for this χ² test is that Survived and Sex are in some way dependent.\n",
      "For this test, we are considering an alpha level 0.001 allowing for 99.9% level of confidence.\n",
      "-----------------------------------------------------------------------------------------------------\n",
      "With a p-value of 1.19735706278e-58 and a χ² statistic of 260.717020167 with 1 degree of freedom we\n",
      "reject the null hypothesis and accept that Survived and Sex are in some way dependent.\n",
      "-----------------------------------------------------------------------------------------------------\n",
      "The Cramer's V measure of association for Survived and Sex has a value of 0.540935943447\n",
      "equating to a large effect size [1][2].\n",
      "-----------------------------------------------------------------------------------------------------\n"
     ]
    }
   ],
   "source": [
    "distinct_counts_of_categorical_series('Sex', 'Sex')\n",
    "visual_analysis_of_two_categorical_variables('Survived', 'Sex')\n",
    "chi_squared_and_carmers_v_anlysis('Survived', 'Sex')"
   ]
  },
  {
   "cell_type": "markdown",
   "metadata": {},
   "source": [
    "TODO: Write an analysis of the above."
   ]
  },
  {
   "cell_type": "markdown",
   "metadata": {},
   "source": [
    "### Were passengers of certain ages likely to survive?"
   ]
  },
  {
   "cell_type": "code",
   "execution_count": 264,
   "metadata": {
    "collapsed": false
   },
   "outputs": [
    {
     "name": "stdout",
     "output_type": "stream",
     "text": [
      "Summary Statistics for Age\n",
      "Median: 28.0\n",
      "Mean: 29.6991176471\n",
      "Standard Deviation: 14.5264973323\n",
      "\n",
      "\n",
      "Category counts for Age By Decade\n",
      "0s      62\n",
      "10s    102\n",
      "20s    220\n",
      "30s    167\n",
      "40s     89\n",
      "50s     48\n",
      "60s     19\n",
      "70s      6\n",
      "80s      1\n",
      "?      177\n",
      "Name: AgeByDecade, dtype: int64\n",
      "\n",
      "\n"
     ]
    },
    {
     "data": {
      "image/png": "[encoded data removed]",
      "text/plain": [
       "<matplotlib.figure.Figure at 0x110c2c9d0>"
      ]
     },
     "metadata": {},
     "output_type": "display_data"
    },
    {
     "name": "stdout",
     "output_type": "stream",
     "text": [
      "χ²: Survived and AgeByDecade\n",
      "H0: The null hypothesis for this χ² test is that Survived and AgeByDecade are independent of each other.\n",
      "HA: The alternative hypothesis for this χ² test is that Survived and AgeByDecade are in some way dependent.\n",
      "For this test, we are considering an alpha level 0.001 allowing for 99.9% level of confidence.\n",
      "-----------------------------------------------------------------------------------------------------\n",
      "With a p-value of 0.000655371188428 and a χ² statistic of 28.9710350222 with 9 degrees of freedom we\n",
      "reject the null hypothesis and accept that Survived and AgeByDecade are in some way dependent.\n",
      "-----------------------------------------------------------------------------------------------------\n",
      "The Cramer's V measure of association for Survived and AgeByDecade has a value of 0.18031969061\n",
      "equating to a small effect size [1][2].\n",
      "-----------------------------------------------------------------------------------------------------\n"
     ]
    }
   ],
   "source": [
    "descriptive_statistics_of_numeric_series('Age', 'Age')\n",
    "distinct_counts_of_categorical_series('AgeByDecade', 'Age By Decade')\n",
    "visual_analysis_of_two_categorical_variables('Survived', 'AgeByDecade')\n",
    "chi_squared_and_carmers_v_anlysis('Survived', 'AgeByDecade')"
   ]
  },
  {
   "cell_type": "markdown",
   "metadata": {},
   "source": [
    "TODO: Write an analysis of the above."
   ]
  },
  {
   "cell_type": "markdown",
   "metadata": {},
   "source": [
    "TODO: Do a seperate analysis of the passengers with unknown ages."
   ]
  },
  {
   "cell_type": "markdown",
   "metadata": {},
   "source": [
    "### Is a passeneger's socio-economic status, gender, or age the better indicator of their survival?"
   ]
  },
  {
   "cell_type": "code",
   "execution_count": null,
   "metadata": {
    "collapsed": true
   },
   "outputs": [],
   "source": []
  },
  {
   "cell_type": "markdown",
   "metadata": {},
   "source": [
    "### Conclussions and Further Analysis"
   ]
  },
  {
   "cell_type": "code",
   "execution_count": null,
   "metadata": {
    "collapsed": true
   },
   "outputs": [],
   "source": []
  },
  {
   "cell_type": "markdown",
   "metadata": {},
   "source": [
    "### References"
   ]
  },
  {
   "cell_type": "markdown",
   "metadata": {},
   "source": [
    "[1] Wikipedia contributors, \"Cramér's V,\" Wikipedia, The Free Encyclopedia, https://en.wikipedia.org/w/index.php?title=Cram%C3%A9r%27s_V&oldid=705563259 (accessed March 14, 2016).\n",
    "\n",
    "[2] Wikipedia contributors, \"Effect size,\" Wikipedia, The Free Encyclopedia, https://en.wikipedia.org/w/index.php?title=Effect_size&oldid=706273103 (accessed March 14, 2016)."
   ]
  },
  {
   "cell_type": "code",
   "execution_count": null,
   "metadata": {
    "collapsed": true
   },
   "outputs": [],
   "source": []
  }
 ],
 "metadata": {
  "kernelspec": {
   "display_name": "Python 2",
   "language": "python",
   "name": "python2"
  },
  "language_info": {
   "codemirror_mode": {
    "name": "ipython",
    "version": 2
   },
   "file_extension": ".py",
   "mimetype": "text/x-python",
   "name": "python",
   "nbconvert_exporter": "python",
   "pygments_lexer": "ipython2",
   "version": "2.7.11"
  }
 },
 "nbformat": 4,
 "nbformat_minor": 0
}
